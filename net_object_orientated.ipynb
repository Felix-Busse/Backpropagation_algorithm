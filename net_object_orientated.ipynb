{
 "cells": [
  {
   "cell_type": "markdown",
   "id": "27606938",
   "metadata": {},
   "source": [
    "# Lecture 2\n",
    "### Programming neuronal network object orientated."
   ]
  },
  {
   "cell_type": "code",
   "execution_count": 1,
   "id": "7d3e76b5",
   "metadata": {},
   "outputs": [],
   "source": [
    "import matplotlib.pyplot as plt\n",
    "import numpy as np\n",
    "import matplotlib.pyplot as plt"
   ]
  },
  {
   "cell_type": "code",
   "execution_count": 17,
   "id": "72692415",
   "metadata": {},
   "outputs": [],
   "source": [
    "class net:\n",
    "    ''' class to hold a neuronal net. \n",
    "    It is not intended that number of layers and/or neurons changes in object of this class.\n",
    "    Parameter neurons defines number of neurons in each layer (incl. input and output layer). \n",
    "    Parameter neurons should be passed as list object of integers.\n",
    "    Parameter activations holds activations for each layer, needs to be list object with one\n",
    "    element less than neurons. Activations are strings: 'linear', 'jump', 'ReLU', 'sigmoid'.\n",
    "    Variables y_layers and df_layers are intended to hold status (value and derivative f'(z)) \n",
    "    of all neurons for backprop'''\n",
    "    def __init__(self, neurons, activations):\n",
    "        # Checking if net is well defined\n",
    "        if (len(neurons) - 1) != len(activations): \n",
    "            # throw error, if net is bad defiend. TO BE IMPLEMENTED\n",
    "            raise ValueError('Number of activations mismatches number of layers')\n",
    "        # Creating biases vectors as a list of 1D numpy arrays\n",
    "        # Creating weights matrices as a list of 2D numpy arrays\n",
    "        self.b = []\n",
    "        self.w = []\n",
    "        # Creating matrices to store gradient of biasas as a list of 1D numpy arrays\n",
    "        self.db = []\n",
    "        # Creating matrices to store gradient of weights as a list of 2D numpy arrays\n",
    "        self.dw = []\n",
    "        for i, n_layer in enumerate(neurons[1:]):\n",
    "            n_previous_layer = neurons[i] # i runs from 0 to len(neurons) - 1\n",
    "            # Creating biases with arbitary values uniformly distributed from -1 to 1\n",
    "            self.b.append(np.random.uniform(low=-1, high=1, size=(n_layer)))\n",
    "            # Creating corresponding list of 1D arrays to store gradient of biases\n",
    "            self.db.append(np.zeros(shape=n_layer))\n",
    "            # Creating weights with arbitary values uniformly distributed from -1 to 1\n",
    "            # Transposed to match matrix multiplication y @ w later (this is for handling \n",
    "            # batches of input data simultaniously)\n",
    "            self.w.append((np.random.uniform(low=-1, high=1, size=(n_layer, n_previous_layer))).T)\n",
    "            # Initializing corresponding list of matrices intended to hold gradients dw of weights w\n",
    "            self.dw.append(np.zeros(shape=(n_layer, n_previous_layer)))\n",
    "        # Defining activations\n",
    "        self.a = activations\n",
    "        # Defining list of empty lists as storage for values y=f(z) of neurons, as well as derivative\n",
    "        # f'(z) of neurons.\n",
    "        self.y_layers = [[] for i in range(len(neurons))] # as many entrys in y_layers as layers of nerons\n",
    "        self.df_layers = [[] for i in range(len(neurons))] # one less entrys in df_layers as layers in net,\n",
    "                                                              # because input layer's derivative is undefined.\n",
    "                                                              # However index is chosen same as for y_layer, to\n",
    "                                                              # avoid index shift between these. Position \n",
    "                                                              # df_layers[0] will stay unused\n",
    "    \n",
    "#    def apply_factor_to_weights(self, factor):\n",
    "#        ''' Gives possibilty to factorize initial weights'''\n",
    "#        self.w = [factor*x for x in self.w]\n",
    "        \n",
    "    def apply_factor_to_weights(self, factor):\n",
    "        ''' Gives possibilty to factorize initial weights'''\n",
    "        for i, value in enumerate(self.w):\n",
    "            self.w[i] *= factor\n",
    "  \n",
    "    def apply_factor_to_biases(self, factor):\n",
    "        for i, value in enumerate(self.b):\n",
    "            self.b[i] *= factor\n",
    "        \n",
    "    def __net_f_df__(self, z, activation):\n",
    "        '''Returns value for activation of f(z) and its derivative f'(z)\n",
    "        '''\n",
    "        if activation == 'sigmoid':\n",
    "            return([1/(1+np.exp(-z)), \n",
    "                1/((1+np.exp(-z))*(1+np.exp(z)))])\n",
    "        elif activation == 'jump': # cheating a bit here: replacing f'(z)=delta(z) by something smooth\n",
    "            return([np.array(z>0,dtype='float'), \n",
    "                10.0/((1+np.exp(-10*z))*(1+np.exp(10*z))) ] )\n",
    "        elif activation == 'ReLU':\n",
    "            return([(z>0)*z, (z>0)*1.0])\n",
    "        elif activation == 'linear':\n",
    "            return([z, np.ones(shape=z.shape)])\n",
    "    \n",
    "    def __apply_forward_step__(self, y_in, n):\n",
    "        ''' Performs forward calculation step from one layer to next.\n",
    "        n is index of calculated layer'''\n",
    "        z = (y_in @ self.w[n-1]) + self.b[n-1]\n",
    "        return(self.__net_f_df__(z, self.a[n-1]))\n",
    "    \n",
    "    def apply_net(self, y_in):\n",
    "        '''One forwards loop through the net, returning output neuron's values.\n",
    "        y_in must provide input neuron's values. Keeping values necessary for backprop '''\n",
    "        self.y_layers[0] = y_in.copy() # copy, to exclude interference of class with source of input\n",
    "        for i in range(len(self.w)):\n",
    "            self.y_layers[i+1], self.df_layers[i+1] = self.__apply_forward_step__(self.y_layers[i], i+1)\n",
    "        return(self.y_layers[-1]) # Returning last element of y gives output layer values to caller\n",
    "    \n",
    "    def apply_net_simple(self, y_in):\n",
    "        '''Simple forward loop trough net to obtain output. Without keeping values for backprop.'''\n",
    "        y = y_in.copy() # Copy of input neurons values, to not interfere with caller\n",
    "        for i in range(len(self.w)):\n",
    "            y = self. __apply_forward_step__(y, i+1)[0] # Keep only y-values, dumping derivitave f'(z)\n",
    "        return(y) # Returning output neuron's values\n",
    "    \n",
    "    def __backprop_step__(self, delta, n):\n",
    "        '''Takes delta-vector of layer n and returns delta-vector vor layer n-1. Index of layer \"n\" must\n",
    "        explicitly passed'''\n",
    "        return delta @ (self.w[n].T) * self.df_layers[n]\n",
    "    \n",
    "    def __backprop__(self, y_target):\n",
    "        ''' Performs backpropagation of net with given batch of target values. Adjustes weights and biases'''\n",
    "        # Calculating batchsize for averaging\n",
    "        batchsize = y_target.shape[0]\n",
    "        # Calculating first vector delta from value of output neurons compared with target values and f'(z) \n",
    "        # of output layer\n",
    "        delta = (self.y_layers[-1] - y_target) * self.df_layers[-1]\n",
    "        # Calculating gradients of cost function from delta vector\n",
    "        self.dw[-1] = self.y_layers[-2].T @ delta / batchsize # Averaging over samples in batch necessary. Trans-\n",
    "        # pose of y_layers necessary, so matrix product sums over neurons not batchsize\n",
    "        self.db[-1] = delta.sum(0) / batchsize # Averaging over samples in batch necessary\n",
    "        # Loop to calculate gradient of all remaining weight matrices\n",
    "        for i in reversed(range(len(self.y_layers)-2)):\n",
    "            # calculate updated delta (one step backwards into net)\n",
    "            delta = self.__backprop_step__(delta, i+1) #delta = delta @ (self.w[i] * self.df_layers[i])\n",
    "            # From delta calculate gradient of weights and average over batchsize\n",
    "            self.dw[i] = ((self.y_layers[i].T) @ delta) / batchsize\n",
    "            # From delta calculate gradients of biases and average over batchsize\n",
    "            self.db[i] = delta.sum(0) / batchsize\n",
    "            \n",
    "    def __gradient_step__(self, eta):\n",
    "        # Updating weights by substracting gradient dw times learning rate eta\n",
    "        for i in range(len(self.w)):\n",
    "            self.w[i] -= eta * self.dw[i]\n",
    "        # Updating biases by substracting gradient db times learning rate eta\n",
    "        for i in range(len(self.b)):\n",
    "            self.b[i] -= eta * self.db[i]\n",
    "            \n",
    "    def train_net(self, y_in, y_target, eta):\n",
    "        if len(y_target.shape) == 1:\n",
    "            y_target = y_target[:, np.newaxis]\n",
    "        # Apply net to obtain output as of current state of net\n",
    "        y_out = self.apply_net(y_in)\n",
    "        # Perform backpropagation algorithm to obtain gradients for weights and biases\n",
    "        self.__backprop__(y_target)\n",
    "        # Calculate new weights and biases from result of backpropagation\n",
    "        self.__gradient_step__(eta)\n",
    "        # Return cost function\n",
    "        return(0.5*((y_out - y_target)**2).sum() / y_in.shape[0])\n"
   ]
  },
  {
   "cell_type": "markdown",
   "id": "6dc8ba26",
   "metadata": {},
   "source": [
    "## Demonstrating learning capability of programmed class"
   ]
  },
  {
   "cell_type": "code",
   "execution_count": 26,
   "id": "27dca8f2",
   "metadata": {},
   "outputs": [
    {
     "data": {
      "text/plain": [
       "array([-1.13681951,  0.03628172, -0.44632999,  2.90835398])"
      ]
     },
     "execution_count": 26,
     "metadata": {},
     "output_type": "execute_result"
    }
   ],
   "source": [
    "a = net(neurons=[2, 5, 4, 1], activations=['ReLU', 'ReLU', 'ReLU'])"
   ]
  },
  {
   "cell_type": "code",
   "execution_count": 19,
   "id": "fb5f08aa",
   "metadata": {},
   "outputs": [],
   "source": [
    "for i in range(20):\n",
    "    a.train_net(y_in=np.array([[-2, 1]]), y_target=np.array([5]), eta=.01)"
   ]
  },
  {
   "cell_type": "code",
   "execution_count": 20,
   "id": "67687957",
   "metadata": {},
   "outputs": [
    {
     "data": {
      "text/plain": [
       "array([[-0.]])"
      ]
     },
     "execution_count": 20,
     "metadata": {},
     "output_type": "execute_result"
    }
   ],
   "source": [
    "a.apply_net_simple(y_in=np.array([[-2, 1]]))"
   ]
  },
  {
   "cell_type": "code",
   "execution_count": 21,
   "id": "467a55d3",
   "metadata": {},
   "outputs": [],
   "source": [
    "c = net(neurons=[2, 10, 10, 1], activations=['sigmoid', 'ReLU', 'linear'])"
   ]
  },
  {
   "cell_type": "code",
   "execution_count": 22,
   "id": "343d1ff8",
   "metadata": {},
   "outputs": [],
   "source": [
    "for i in range(50):\n",
    "    c.train_net(y_in=np.array([[-2, 1], [-1, 3], [4, 4]]), y_target=np.array([1, -1, -1.5]), eta=.1)"
   ]
  },
  {
   "cell_type": "code",
   "execution_count": 23,
   "id": "0587528a",
   "metadata": {},
   "outputs": [
    {
     "data": {
      "text/plain": [
       "array([[ 0.82112369],\n",
       "       [-0.67718875],\n",
       "       [-1.66223731]])"
      ]
     },
     "execution_count": 23,
     "metadata": {},
     "output_type": "execute_result"
    }
   ],
   "source": [
    "c.y_layers[-1]"
   ]
  },
  {
   "cell_type": "markdown",
   "id": "07c87a03",
   "metadata": {},
   "source": [
    "## Learning an simple image"
   ]
  },
  {
   "cell_type": "code",
   "execution_count": 3,
   "id": "75c47fa4",
   "metadata": {},
   "outputs": [
    {
     "data": {
      "text/plain": [
       "<matplotlib.image.AxesImage at 0x7f449c62fb50>"
      ]
     },
     "execution_count": 3,
     "metadata": {},
     "output_type": "execute_result"
    },
    {
     "data": {
      "image/png": "[encoded data removed]",
      "text/plain": [
       "<Figure size 640x480 with 1 Axes>"
      ]
     },
     "metadata": {},
     "output_type": "display_data"
    }
   ],
   "source": [
    "# Defining image as binary mask\n",
    "target = np.diag(v=np.array([1, 1, 1, 1, 1, 1, 1]))\n",
    "for i in range(target.shape[1]):\n",
    "    target[target.shape[1] - i - 1, i] = 1\n",
    "plt.imshow(target, cmap='gray')"
   ]
  },
  {
   "cell_type": "code",
   "execution_count": 27,
   "id": "83d868c0",
   "metadata": {},
   "outputs": [],
   "source": [
    "# Defining neuronal network\n",
    "image_net = net(neurons=[2, 75, 75, 75, 1], activations=['sigmoid', 'sigmoid', 'sigmoid', 'sigmoid'])"
   ]
  },
  {
   "cell_type": "code",
   "execution_count": 138,
   "id": "54b59074",
   "metadata": {},
   "outputs": [
    {
     "name": "stdout",
     "output_type": "stream",
     "text": [
      "0.0006903425266766255\n"
     ]
    }
   ],
   "source": [
    "# Multible application of stochastic gradient descent\n",
    "for i in range(5000 - 1):\n",
    "    # Extracting samples from target image\n",
    "    batchsize = 15\n",
    "    samples = np.zeros(shape=(batchsize, 3))\n",
    "    # Taking arbitary values from traget-image to set up traing batch\n",
    "    for i in range(batchsize):\n",
    "        coord1 = np.random.randint(low=0, high=target.shape[0])\n",
    "        coord2 = np.random.randint(low=0, high=target.shape[1])\n",
    "        samples[i, 0] = coord1\n",
    "        samples[i, 1] = coord2\n",
    "        samples[i, 2] = target[coord1, coord2]\n",
    "\n",
    "    # Learning one cycle on sample\n",
    "    image_net.train_net(y_in=samples[:, :-1], y_target=samples[:, 2].flatten(), eta=0.01)\n",
    "# Printing last value of cost function to screen\n",
    "print(image_net.train_net(y_in=samples[:, :-1], y_target=samples[:, 2].flatten(), eta=0.01))"
   ]
  },
  {
   "cell_type": "code",
   "execution_count": 139,
   "id": "ceda882e",
   "metadata": {},
   "outputs": [
    {
     "data": {
      "text/plain": [
       "<matplotlib.image.AxesImage at 0x7f4498a8f430>"
      ]
     },
     "execution_count": 139,
     "metadata": {},
     "output_type": "execute_result"
    },
    {
     "data": {
      "image/png": "[encoded data removed]",
      "text/plain": [
       "<Figure size 640x480 with 1 Axes>"
      ]
     },
     "metadata": {},
     "output_type": "display_data"
    }
   ],
   "source": [
    "# Plot resulting image of net after learning\n",
    "\n",
    "axes = (np.ogrid[0:target.shape[1], 0:target.shape[0]])\n",
    "grid = np.meshgrid(axes[0], axes[1])\n",
    "image_index = np.concatenate([grid[1].flatten()[:, np.newaxis], grid[0].flatten()[:, np.newaxis]], axis=1)\n",
    "image_learned = image_net.apply_net_simple(y_in=image_index)\n",
    "plt.imshow(image_learned.reshape(target.shape), cmap='gray')"
   ]
  },
  {
   "cell_type": "markdown",
   "id": "f92c40bc",
   "metadata": {},
   "source": [
    "## Performing some statistics on weights and biases"
   ]
  },
  {
   "cell_type": "code",
   "execution_count": 150,
   "id": "c8dd3a96",
   "metadata": {},
   "outputs": [
    {
     "data": {
      "text/plain": [
       "1.0268238034361166"
      ]
     },
     "execution_count": 150,
     "metadata": {},
     "output_type": "execute_result"
    }
   ],
   "source": [
    "image_net.w[0].std()"
   ]
  },
  {
   "cell_type": "code",
   "execution_count": 151,
   "id": "fec877e7",
   "metadata": {},
   "outputs": [
    {
     "data": {
      "text/plain": [
       "0.08939795327656536"
      ]
     },
     "execution_count": 151,
     "metadata": {},
     "output_type": "execute_result"
    }
   ],
   "source": [
    "image_net.w[0].mean()"
   ]
  },
  {
   "cell_type": "code",
   "execution_count": 144,
   "id": "52b7e512",
   "metadata": {},
   "outputs": [
    {
     "data": {
      "text/plain": [
       "0.5749095365833058"
      ]
     },
     "execution_count": 144,
     "metadata": {},
     "output_type": "execute_result"
    }
   ],
   "source": [
    "image_net.b[2].std()"
   ]
  },
  {
   "cell_type": "code",
   "execution_count": 145,
   "id": "d733687c",
   "metadata": {},
   "outputs": [
    {
     "data": {
      "text/plain": [
       "0.022042619801323656"
      ]
     },
     "execution_count": 145,
     "metadata": {},
     "output_type": "execute_result"
    }
   ],
   "source": [
    "image_net.b[2].mean()"
   ]
  },
  {
   "cell_type": "code",
   "execution_count": null,
   "id": "51b0dee0",
   "metadata": {},
   "outputs": [],
   "source": []
  }
 ],
 "metadata": {
  "kernelspec": {
   "display_name": "Python 3 (ipykernel)",
   "language": "python",
   "name": "python3"
  },
  "language_info": {
   "codemirror_mode": {
    "name": "ipython",
    "version": 3
   },
   "file_extension": ".py",
   "mimetype": "text/x-python",
   "name": "python",
   "nbconvert_exporter": "python",
   "pygments_lexer": "ipython3",
   "version": "3.10.6"
  }
 },
 "nbformat": 4,
 "nbformat_minor": 5
}
